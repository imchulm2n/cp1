{
 "cells": [
  {
   "cell_type": "code",
   "execution_count": 133,
   "metadata": {},
   "outputs": [],
   "source": [
    "import pandas as pd\n",
    "import os"
   ]
  },
  {
   "cell_type": "code",
   "execution_count": 134,
   "metadata": {},
   "outputs": [
    {
     "name": "stderr",
     "output_type": "stream",
     "text": [
      "C:\\Users\\cm\\AppData\\Local\\Temp\\ipykernel_11508\\2306794549.py:8: DtypeWarning: Columns (35) have mixed types. Specify dtype option on import or set low_memory=False.\n",
      "  dataset[file_key] = pd.read_csv(filename)\n",
      "C:\\Users\\cm\\AppData\\Local\\Temp\\ipykernel_11508\\2306794549.py:8: DtypeWarning: Columns (35) have mixed types. Specify dtype option on import or set low_memory=False.\n",
      "  dataset[file_key] = pd.read_csv(filename)\n",
      "C:\\Users\\cm\\AppData\\Local\\Temp\\ipykernel_11508\\2306794549.py:8: DtypeWarning: Columns (35) have mixed types. Specify dtype option on import or set low_memory=False.\n",
      "  dataset[file_key] = pd.read_csv(filename)\n",
      "C:\\Users\\cm\\AppData\\Local\\Temp\\ipykernel_11508\\2306794549.py:8: DtypeWarning: Columns (35) have mixed types. Specify dtype option on import or set low_memory=False.\n",
      "  dataset[file_key] = pd.read_csv(filename)\n",
      "C:\\Users\\cm\\AppData\\Local\\Temp\\ipykernel_11508\\2306794549.py:8: DtypeWarning: Columns (35) have mixed types. Specify dtype option on import or set low_memory=False.\n",
      "  dataset[file_key] = pd.read_csv(filename)\n",
      "C:\\Users\\cm\\AppData\\Local\\Temp\\ipykernel_11508\\2306794549.py:8: DtypeWarning: Columns (35) have mixed types. Specify dtype option on import or set low_memory=False.\n",
      "  dataset[file_key] = pd.read_csv(filename)\n",
      "C:\\Users\\cm\\AppData\\Local\\Temp\\ipykernel_11508\\2306794549.py:8: DtypeWarning: Columns (35) have mixed types. Specify dtype option on import or set low_memory=False.\n",
      "  dataset[file_key] = pd.read_csv(filename)\n"
     ]
    }
   ],
   "source": [
    "# 각 시도 내 업소 데이터를 불러와서 dataset라는 dictionary에 key는 시도명으로 value는 각 시도의 업소데이터프레임을 저장한다.\n",
    "file_list = os.listdir('./data/sido')\n",
    "\n",
    "dataset = {} \n",
    "for file in file_list:  \n",
    "    file_key = 'df_' + str(file.split('.')[0])\n",
    "    filename = f'./data/sido/{file}'\n",
    "    dataset[file_key] = pd.read_csv(filename)"
   ]
  },
  {
   "cell_type": "code",
   "execution_count": 135,
   "metadata": {},
   "outputs": [],
   "source": [
    "#저장한 데이터셋에서 외식창업관련 데이터를 확인하기 위해서 음식관련 데이터만 추출한다.\n",
    "food_service = {}\n",
    "for data in dataset:\n",
    "    food_service[data] = dataset[data].query(\"상권업종대분류코드.str.contains('Q')\")  \n",
    "    food_service[data] = food_service[data].reset_index(drop=True)"
   ]
  },
  {
   "cell_type": "code",
   "execution_count": 136,
   "metadata": {},
   "outputs": [],
   "source": [
    "#시도별로 나눠져있는 데이터들을 하나로 합친다.\n",
    "df_food_service = pd.concat(food_service, ignore_index=True)"
   ]
  },
  {
   "cell_type": "code",
   "execution_count": 5,
   "metadata": {},
   "outputs": [],
   "source": [
    "# 상권업종중분류코드와 분류명을 df로 만든다.\n",
    "df_mid_code = pd.DataFrame(\n",
    "    {'code':df_food_service[\"상권업종중분류코드\"].value_counts().keys(),\n",
    "    'name': df_food_service[\"상권업종중분류명\"].value_counts().keys()}\n",
    "    )"
   ]
  },
  {
   "cell_type": "code",
   "execution_count": 137,
   "metadata": {},
   "outputs": [],
   "source": [
    "# 시도코드와 시도명을 df로 만든다.\n",
    "sido_lat = [37.567167,37.540705,35.259787,35.198362,36.248647,36.557229,37.555837,34.819400,37.469221,35.798838,35.716705,36.628503,36.321655,35.126033,33.364805,35.519301,36.504073]\n",
    "sido_lon = [127.190292,126.956764,128.664734,129.053922,128.664734,126.779757,128.209315,126.893113,126.573234,128.583052,127.144185,127.929344,127.378953,126.831302,126.542671,129.239078,127.249485]\n",
    "df_sido_code = pd.DataFrame(\n",
    "    {'code':df_food_service[\"시도코드\"].value_counts().keys(),\n",
    "    'name': df_food_service[\"시도명\"].value_counts().keys(),\n",
    "    'lat': sido_lat,\n",
    "    'lon': sido_lon}\n",
    "    )"
   ]
  },
  {
   "cell_type": "code",
   "execution_count": 138,
   "metadata": {},
   "outputs": [],
   "source": [
    "# 시군구명이 중복되는 값들이 있어서 중복되지 않기 위해 시군구코드와 시군구명의 수를 확인해서 df를 만든다.\n",
    "list_sgg_code = list(df_food_service[\"시군구코드\"].value_counts().keys())\n",
    "\n",
    "list_sgg_name = [df_food_service[\"시군구명\"][df_food_service['시군구코드'] == i].value_counts().keys()[0] for i in list_sgg_code]\n",
    "\n",
    "df_sgg_code = pd.DataFrame(\n",
    "    {'code':list_sgg_code,\n",
    "    'name': list_sgg_name}\n",
    "    )"
   ]
  },
  {
   "cell_type": "code",
   "execution_count": 8,
   "metadata": {},
   "outputs": [],
   "source": [
    "# 행정동명도 중복되는 값들이 있어서 시군구코드와 같은 방법을 이용해서 행정동코드와 행정동명의 df를 만든다.\n",
    "list_hjd_code = list(df_food_service[\"행정동코드\"].value_counts().keys())\n",
    "\n",
    "list_hjd_name = [df_food_service[\"행정동명\"][df_food_service['행정동코드'] == i].value_counts().keys()[0] for i in list_hjd_code]\n",
    "\n",
    "df_hjd_code = pd.DataFrame(\n",
    "    {'code':list_hjd_code,\n",
    "    'name': list_hjd_name}\n",
    "    )"
   ]
  },
  {
   "cell_type": "code",
   "execution_count": 9,
   "metadata": {},
   "outputs": [],
   "source": [
    "# 상가업소번호, 업소명, 도로명주소, 위도, 경도의 df를 만든다.\n",
    "df_shop = pd.DataFrame({\n",
    "    \"code\" : df_food_service[\"상가업소번호\"],\n",
    "    \"name\" : df_food_service[\"상호명\"],\n",
    "    \"address\" : df_food_service[\"도로명주소\"],\n",
    "    \"lat\" : df_food_service[\"위도\"],\n",
    "    \"lon\" : df_food_service[\"경도\"]\n",
    "})"
   ]
  },
  {
   "cell_type": "code",
   "execution_count": 10,
   "metadata": {},
   "outputs": [],
   "source": [
    "# 모든 업소의 한글 제외한 코드만으로 이루어진 df를 만든다.\n",
    "df = df_food_service.iloc[:,[0,5,11,13,15]]\n",
    "df = df.reset_index(drop=True)"
   ]
  },
  {
   "cell_type": "code",
   "execution_count": 11,
   "metadata": {},
   "outputs": [],
   "source": [
    "# 시도별 총 음식점 숫자를 보여주는 df을 만든다.\n",
    "sido = {}\n",
    "for i in df_sido_code[\"code\"]:\n",
    "    sido[df_sido_code.loc[df_sido_code[\"code\"]==i][\"name\"].values[0]] = len(df.query(f\"시도코드 == {i}\"))\n",
    "\n",
    "df_sido_num = pd.DataFrame({\n",
    "    \"name\" : list(sido.keys()),\n",
    "    \"num\" : list(sido.values()),\n",
    "})"
   ]
  },
  {
   "cell_type": "code",
   "execution_count": 12,
   "metadata": {},
   "outputs": [],
   "source": [
    "# 용량을 줄이기위해 \"상권업종중분류코드\",\"시도코드\", '시군구코드', '행정동코드'의 데이터타입을 카테고리로 변환시킨다.\n",
    "for i in [\"상권업종중분류코드\",\"시도코드\", '시군구코드', '행정동코드']:\n",
    "    df = df.astype({i:'category'})"
   ]
  },
  {
   "cell_type": "code",
   "execution_count": 13,
   "metadata": {},
   "outputs": [],
   "source": [
    "# 만든 df들을 csv파일로 만든다.\n",
    "df_list = {'df': df,\n",
    "'df_mid_code': df_mid_code,\n",
    "'df_sido_code': df_sido_code,\n",
    "'df_sgg_code': df_sgg_code,\n",
    "'df_hjd_code': df_hjd_code,\n",
    "'df_shop': df_shop,\n",
    "'df_sido_num':df_sido_num\n",
    "}\n",
    "\n",
    "for i in df_list:\n",
    "    df_list[i].to_csv(f'./data/{i}.csv', \n",
    "              sep=\",\", \n",
    "              na_rep=\"NaN\"\n",
    "              )"
   ]
  },
  {
   "cell_type": "code",
   "execution_count": 5,
   "metadata": {},
   "outputs": [],
   "source": [
    "df_sido_code = pd.read_csv('./data/df_sido_code.csv', index_col=0)\n",
    "df_sido_num = pd.read_csv('./data/df_sido_num.csv', index_col=0)\n",
    "df = pd.read_csv('./data/df.csv', index_col=0)\n",
    "df_mid_code = pd.read_csv('./data/df_mid_code.csv', index_col=0)\n",
    "df_shop = pd.read_csv('./data/df_shop.csv', index_col=0)"
   ]
  }
 ],
 "metadata": {
  "kernelspec": {
   "display_name": "sc5week1",
   "language": "python",
   "name": "python3"
  },
  "language_info": {
   "codemirror_mode": {
    "name": "ipython",
    "version": 3
   },
   "file_extension": ".py",
   "mimetype": "text/x-python",
   "name": "python",
   "nbconvert_exporter": "python",
   "pygments_lexer": "ipython3",
   "version": "3.8.15"
  },
  "orig_nbformat": 4,
  "vscode": {
   "interpreter": {
    "hash": "f7787c09b7870eae2d904c6786062c7d76c88344e91e9b0448679f6a2b39a948"
   }
  }
 },
 "nbformat": 4,
 "nbformat_minor": 2
}
